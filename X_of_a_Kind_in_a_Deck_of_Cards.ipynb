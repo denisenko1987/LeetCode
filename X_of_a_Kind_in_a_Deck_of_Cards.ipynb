{
 "cells": [
  {
   "cell_type": "code",
   "execution_count": 15,
   "metadata": {},
   "outputs": [],
   "source": [
    "deck = [1,2,3,4,4,3,2,1]"
   ]
  },
  {
   "cell_type": "code",
   "execution_count": null,
   "metadata": {},
   "outputs": [],
   "source": [
    "class Solution:\n",
    "    def hasGroupsSizeX(self, deck: List[int]) -> bool:\n",
    "        from collections import Counter\n",
    "        dide = Counter(deck)\n",
    "        for i in range(2,len(deck)+1):\n",
    "            if len(deck) % i == 0:\n",
    "                if all(val % i == 0 for val in dide.values()):\n",
    "                    return True\n",
    "        return False"
   ]
  },
  {
   "cell_type": "code",
   "execution_count": 33,
   "metadata": {},
   "outputs": [
    {
     "data": {
      "text/plain": [
       "[[1], [1], [2], [2], [3], [3], [4], [4]]"
      ]
     },
     "execution_count": 33,
     "metadata": {},
     "output_type": "execute_result"
    }
   ],
   "source": [
    "deck_i = [deck[i : i+n] for i in range(0,len(deck),n)]\n",
    "deck_i"
   ]
  },
  {
   "cell_type": "code",
   "execution_count": 29,
   "metadata": {},
   "outputs": [
    {
     "name": "stdout",
     "output_type": "stream",
     "text": [
      "2\n",
      "4\n",
      "[[1, 1, 2, 2], [3, 3, 4, 4]]\n",
      "False\n",
      "False\n",
      "False\n",
      "4\n",
      "2\n",
      "[[1, 1], [2, 2], [3, 3], [4, 4]]\n",
      "True\n",
      "False\n",
      "False\n",
      "False\n",
      "False\n",
      "8\n",
      "1\n",
      "[[1], [1], [2], [2], [3], [3], [4], [4]]\n",
      "True\n",
      "False\n"
     ]
    }
   ],
   "source": [
    "deck = [1,2,3,4,4,3,2,1]\n",
    "deck.sort()\n",
    "for i in range(2,len(deck)+1):\n",
    "    if len(deck) % i == 0:\n",
    "        print(i)\n",
    "        n = int(len(deck) / i)\n",
    "        print(n)\n",
    "        deck_i = [deck[j:j+n] for j in range(0,len(deck),n)]\n",
    "        print(deck_i)\n",
    "        print(all(len(set(ls))==1 for ls in deck_i))\n",
    "    print('False')"
   ]
  },
  {
   "cell_type": "code",
   "execution_count": null,
   "metadata": {},
   "outputs": [],
   "source": []
  }
 ],
 "metadata": {
  "kernelspec": {
   "display_name": "Python 3",
   "language": "python",
   "name": "python3"
  },
  "language_info": {
   "codemirror_mode": {
    "name": "ipython",
    "version": 3
   },
   "file_extension": ".py",
   "mimetype": "text/x-python",
   "name": "python",
   "nbconvert_exporter": "python",
   "pygments_lexer": "ipython3",
   "version": "3.9.5"
  },
  "orig_nbformat": 4,
  "vscode": {
   "interpreter": {
    "hash": "aee8b7b246df8f9039afb4144a1f6fd8d2ca17a180786b69acc140d282b71a49"
   }
  }
 },
 "nbformat": 4,
 "nbformat_minor": 2
}
