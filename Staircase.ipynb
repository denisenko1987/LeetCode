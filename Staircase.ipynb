{
 "cells": [
  {
   "cell_type": "code",
   "execution_count": 2,
   "metadata": {},
   "outputs": [],
   "source": [
    "import math\n",
    "import os\n",
    "import random\n",
    "import re\n",
    "import sys\n"
   ]
  },
  {
   "cell_type": "code",
   "execution_count": 3,
   "metadata": {},
   "outputs": [],
   "source": [
    "\n",
    "#\n",
    "# Complete the 'staircase' function below.\n",
    "#\n",
    "# The function accepts INTEGER n as parameter.\n",
    "#\n",
    "\n",
    "def staircase(n):\n",
    "    for i in range(1,n+1):\n",
    "        s = n - i\n",
    "        e = n - s\n",
    "        print(' '*s + '#'*e)\n",
    "\n",
    "# if __name__ == '__main__':\n",
    "#     n = int(input().strip())\n",
    "\n",
    "#     staircase(n)"
   ]
  },
  {
   "cell_type": "code",
   "execution_count": 4,
   "metadata": {},
   "outputs": [
    {
     "name": "stdout",
     "output_type": "stream",
     "text": [
      "         #\n",
      "        ##\n",
      "       ###\n",
      "      ####\n",
      "     #####\n",
      "    ######\n",
      "   #######\n",
      "  ########\n",
      " #########\n",
      "##########\n"
     ]
    }
   ],
   "source": [
    "staircase(10)"
   ]
  },
  {
   "cell_type": "code",
   "execution_count": null,
   "metadata": {},
   "outputs": [],
   "source": []
  }
 ],
 "metadata": {
  "kernelspec": {
   "display_name": "Python 3",
   "language": "python",
   "name": "python3"
  },
  "language_info": {
   "codemirror_mode": {
    "name": "ipython",
    "version": 3
   },
   "file_extension": ".py",
   "mimetype": "text/x-python",
   "name": "python",
   "nbconvert_exporter": "python",
   "pygments_lexer": "ipython3",
   "version": "3.9.5 (v3.9.5:0a7dcbdb13, May  3 2021, 13:17:02) \n[Clang 6.0 (clang-600.0.57)]"
  },
  "orig_nbformat": 4,
  "vscode": {
   "interpreter": {
    "hash": "aee8b7b246df8f9039afb4144a1f6fd8d2ca17a180786b69acc140d282b71a49"
   }
  }
 },
 "nbformat": 4,
 "nbformat_minor": 2
}
