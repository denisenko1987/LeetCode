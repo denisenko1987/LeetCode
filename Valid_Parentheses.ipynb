{
 "cells": [
  {
   "cell_type": "code",
   "execution_count": 106,
   "metadata": {},
   "outputs": [],
   "source": [
    "\n",
    "open = ['(','[','{']\n",
    "close = [')',']','}']\n",
    "dict_p = {'(':')',\n",
    "          '[':']',\n",
    "          '{':'}'}"
   ]
  },
  {
   "cell_type": "code",
   "execution_count": 204,
   "metadata": {},
   "outputs": [],
   "source": [
    "str_1 = \"()[]{}\"\n",
    "str_3 = '([])'\n",
    "str_5 = '([])()'\n",
    "str_7 = '(()[])'\n",
    "\n",
    "str_2 = '(]'\n",
    "str_4 = '([)]'\n",
    "str_6 = '(][)'\n",
    "str_8 = '((]{})'\n",
    "str_10 = '({{{{}}}))'\n",
    "str_11 = '[[[]'"
   ]
  },
  {
   "attachments": {},
   "cell_type": "markdown",
   "metadata": {},
   "source": [
    "First solution"
   ]
  },
  {
   "cell_type": "code",
   "execution_count": 1,
   "metadata": {},
   "outputs": [],
   "source": [
    "class Solution:\n",
    "    def isValid(self, s: str) -> bool:\n",
    "        op = ['(','[','{']\n",
    "        cl = [')',']','}']\n",
    "        dict_p = {\n",
    "                  '(':')',\n",
    "                  '[':']',\n",
    "                  '{':'}'\n",
    "                  }\n",
    "\n",
    "        sl= list(s)\n",
    "        op_count = 0\n",
    "        cl_count = 0\n",
    "        for i in sl:\n",
    "            if i in op:\n",
    "                op_count += 1\n",
    "            else:\n",
    "                cl_count += 1\n",
    "\n",
    "        if len(sl)%2 == 0 and sl[0] in op and sl[-1] in cl and op_count == cl_count:\n",
    "            i = 0\n",
    "            len_sl = len(sl)\n",
    "            while len_sl != 0:\n",
    "                if sl[i] in op and sl[i+1] in op:\n",
    "                    i += 1\n",
    "                if sl[i] in op and sl[i+1] in cl:\n",
    "                    if dict_p[sl[i]] != sl[i+1]:\n",
    "                        return False\n",
    "                        break\n",
    "                    else:\n",
    "                        sl.pop(i)\n",
    "                        sl.pop(i)\n",
    "                        i=0\n",
    "                        len_sl = len(sl)\n",
    "                        continue\n",
    "            return True"
   ]
  },
  {
   "attachments": {},
   "cell_type": "markdown",
   "metadata": {},
   "source": [
    "Second solution"
   ]
  },
  {
   "cell_type": "code",
   "execution_count": 2,
   "metadata": {},
   "outputs": [],
   "source": [
    "class Solution:\n",
    "    def isValid(self, s: str) -> bool:\n",
    "        while '()' in s or '[]' in s or \"{}\" in s:\n",
    "            s = s.replace('()','').replace('[]','').replace('{}','')\n",
    "        if len(s) != 0:\n",
    "            return False\n",
    "        else:\n",
    "            return True"
   ]
  },
  {
   "cell_type": "code",
   "execution_count": null,
   "metadata": {},
   "outputs": [],
   "source": []
  }
 ],
 "metadata": {
  "kernelspec": {
   "display_name": "Python 3",
   "language": "python",
   "name": "python3"
  },
  "language_info": {
   "codemirror_mode": {
    "name": "ipython",
    "version": 3
   },
   "file_extension": ".py",
   "mimetype": "text/x-python",
   "name": "python",
   "nbconvert_exporter": "python",
   "pygments_lexer": "ipython3",
   "version": "3.9.5 (v3.9.5:0a7dcbdb13, May  3 2021, 13:17:02) \n[Clang 6.0 (clang-600.0.57)]"
  },
  "orig_nbformat": 4,
  "vscode": {
   "interpreter": {
    "hash": "aee8b7b246df8f9039afb4144a1f6fd8d2ca17a180786b69acc140d282b71a49"
   }
  }
 },
 "nbformat": 4,
 "nbformat_minor": 2
}
