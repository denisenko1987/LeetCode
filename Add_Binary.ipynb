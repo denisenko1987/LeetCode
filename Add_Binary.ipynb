{
 "cells": [
  {
   "cell_type": "code",
   "execution_count": 43,
   "metadata": {},
   "outputs": [],
   "source": [
    "from itertools import zip_longest"
   ]
  },
  {
   "cell_type": "code",
   "execution_count": 53,
   "metadata": {},
   "outputs": [],
   "source": [
    "a = \"1010\"\n",
    "b = \"1011\""
   ]
  },
  {
   "cell_type": "code",
   "execution_count": 28,
   "metadata": {},
   "outputs": [
    {
     "data": {
      "text/plain": [
       "[1, 2, 4, 8]"
      ]
     },
     "execution_count": 28,
     "metadata": {},
     "output_type": "execute_result"
    }
   ],
   "source": [
    "[2**i for i in range(len(a))][::]"
   ]
  },
  {
   "cell_type": "code",
   "execution_count": 21,
   "metadata": {},
   "outputs": [
    {
     "data": {
      "text/plain": [
       "[1, 0, 1, 0]"
      ]
     },
     "execution_count": 21,
     "metadata": {},
     "output_type": "execute_result"
    }
   ],
   "source": [
    "[int(i) for i in list(a)]"
   ]
  },
  {
   "cell_type": "code",
   "execution_count": 29,
   "metadata": {},
   "outputs": [],
   "source": [
    "def bit_to_dec(a):\n",
    "    list_a = [int(i) for i in list(a)]\n",
    "    list_r = [2**i for i in range(len(a))]\n",
    "    number = 0\n",
    "    for i, r in zip(list_a[::-1], list_r[::]):\n",
    "        number += i*r\n",
    "    return number"
   ]
  },
  {
   "cell_type": "code",
   "execution_count": 30,
   "metadata": {},
   "outputs": [
    {
     "data": {
      "text/plain": [
       "10"
      ]
     },
     "execution_count": 30,
     "metadata": {},
     "output_type": "execute_result"
    }
   ],
   "source": [
    "bit_to_dec(a)"
   ]
  },
  {
   "cell_type": "code",
   "execution_count": 32,
   "metadata": {},
   "outputs": [
    {
     "data": {
      "text/plain": [
       "'1010'"
      ]
     },
     "execution_count": 32,
     "metadata": {},
     "output_type": "execute_result"
    }
   ],
   "source": [
    "bin(10)[2:]"
   ]
  },
  {
   "cell_type": "code",
   "execution_count": 34,
   "metadata": {},
   "outputs": [
    {
     "data": {
      "text/plain": [
       "10"
      ]
     },
     "execution_count": 34,
     "metadata": {},
     "output_type": "execute_result"
    }
   ],
   "source": [
    "int(a,2)"
   ]
  },
  {
   "attachments": {},
   "cell_type": "markdown",
   "metadata": {},
   "source": [
    "## First solution"
   ]
  },
  {
   "cell_type": "code",
   "execution_count": 35,
   "metadata": {},
   "outputs": [],
   "source": [
    "class Solution:\n",
    "    def addBinary(self, a: str, b: str) -> str:\n",
    "        def bit_to_dec(a):\n",
    "            list_a = [int(i) for i in list(a)]\n",
    "            list_r = [2**i for i in range(len(a))]\n",
    "            number = 0\n",
    "            for i, r in zip(list_a[::-1], list_r[::]):\n",
    "                number += i*r\n",
    "            return number\n",
    "        result = bit_to_dec(a) + bit_to_dec(b)\n",
    "        return bin(result)[2:]"
   ]
  },
  {
   "attachments": {},
   "cell_type": "markdown",
   "metadata": {},
   "source": [
    "## Second solution"
   ]
  },
  {
   "cell_type": "code",
   "execution_count": null,
   "metadata": {},
   "outputs": [],
   "source": [
    "class Solution:\n",
    "    def addBinary(self, a: str, b: str) -> str:\n",
    "        result = int(a,2) + int(b,2)\n",
    "        return bin(result)[2:]"
   ]
  },
  {
   "attachments": {},
   "cell_type": "markdown",
   "metadata": {},
   "source": [
    "## Third solution"
   ]
  },
  {
   "cell_type": "code",
   "execution_count": 87,
   "metadata": {},
   "outputs": [],
   "source": [
    "a = \"1110\"\n",
    "b = \"1111\""
   ]
  },
  {
   "cell_type": "code",
   "execution_count": 88,
   "metadata": {},
   "outputs": [
    {
     "name": "stdout",
     "output_type": "stream",
     "text": [
      "step 1.1 carry -->  0\n",
      "step 1.2 carry -->  1\n",
      "carry %2 -->  1\n",
      "result += str(carry %2) -->  1\n",
      "carry //= 2 -->  0\n",
      "result -->  1\n",
      "----------\n",
      "step 1.1 carry -->  1\n",
      "step 1.2 carry -->  2\n",
      "carry %2 -->  0\n",
      "result += str(carry %2) -->  10\n",
      "carry //= 2 -->  1\n",
      "result -->  01\n",
      "----------\n",
      "step 1.1 carry -->  2\n",
      "step 1.2 carry -->  3\n",
      "carry %2 -->  1\n",
      "result += str(carry %2) -->  101\n",
      "carry //= 2 -->  1\n",
      "result -->  101\n",
      "----------\n",
      "step 1.1 carry -->  2\n",
      "step 1.2 carry -->  3\n",
      "carry %2 -->  1\n",
      "result += str(carry %2) -->  1011\n",
      "carry //= 2 -->  1\n",
      "result -->  1101\n",
      "----------\n",
      "carry %2 -->  1\n",
      "result += str(carry %2) -->  10111\n",
      "carry //= 2 -->  0\n",
      "result -->  11101\n",
      "----------\n"
     ]
    }
   ],
   "source": [
    "carry = 0\n",
    "result = ''\n",
    "\n",
    "a = list(a)\n",
    "b = list(b)\n",
    "\n",
    "while a or b or carry:\n",
    "    if a:\n",
    "        carry += int(a.pop())\n",
    "        print('step 1.1 carry --> ',carry)##\n",
    "    if b:\n",
    "        carry += int(b.pop())\n",
    "        print('step 1.2 carry --> ',carry)##\n",
    "\n",
    "    result += str(carry %2)\n",
    "    print('carry %2 --> ',carry %2)\n",
    "    print('result += str(carry %2) --> ',result) ##\n",
    "    carry //= 2\n",
    "    print('carry //= 2 --> ',carry)##\n",
    "\n",
    "    print('result --> ',result[::-1])\n",
    "    print('-'*10)\n"
   ]
  },
  {
   "cell_type": "code",
   "execution_count": null,
   "metadata": {},
   "outputs": [],
   "source": []
  }
 ],
 "metadata": {
  "kernelspec": {
   "display_name": "Python 3",
   "language": "python",
   "name": "python3"
  },
  "language_info": {
   "codemirror_mode": {
    "name": "ipython",
    "version": 3
   },
   "file_extension": ".py",
   "mimetype": "text/x-python",
   "name": "python",
   "nbconvert_exporter": "python",
   "pygments_lexer": "ipython3",
   "version": "3.9.5"
  },
  "orig_nbformat": 4,
  "vscode": {
   "interpreter": {
    "hash": "aee8b7b246df8f9039afb4144a1f6fd8d2ca17a180786b69acc140d282b71a49"
   }
  }
 },
 "nbformat": 4,
 "nbformat_minor": 2
}
